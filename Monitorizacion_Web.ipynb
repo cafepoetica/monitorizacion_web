{
 "cells": [
  {
   "cell_type": "markdown",
   "id": "af3f79bc",
   "metadata": {},
   "source": [
    "                               ··· Script para la monitorizacion de cambios en una pagina web ···\n",
    "                                                      Abraham Bravo Morales"
   ]
  },
  {
   "cell_type": "code",
   "execution_count": 11,
   "id": "f7db729c",
   "metadata": {},
   "outputs": [
    {
     "name": "stdout",
     "output_type": "stream",
     "text": [
      "Analizando...\n",
      "Algo ha cambiado en la web \n",
      "2021-12-20 13:52:54.952702\n",
      "Algo ha cambiado en la web \n",
      "2021-12-20 13:52:54.952702\n"
     ]
    },
    {
     "ename": "KeyboardInterrupt",
     "evalue": "",
     "output_type": "error",
     "traceback": [
      "\u001b[1;31m---------------------------------------------------------------------------\u001b[0m",
      "\u001b[1;31mKeyboardInterrupt\u001b[0m                         Traceback (most recent call last)",
      "\u001b[1;32m~\\AppData\\Local\\Temp/ipykernel_596/1422311712.py\u001b[0m in \u001b[0;36m<module>\u001b[1;34m\u001b[0m\n\u001b[0;32m     28\u001b[0m             \u001b[0mresponse\u001b[0m \u001b[1;33m=\u001b[0m \u001b[0murlopen\u001b[0m\u001b[1;33m(\u001b[0m\u001b[0murl\u001b[0m\u001b[1;33m)\u001b[0m\u001b[1;33m.\u001b[0m\u001b[0mread\u001b[0m\u001b[1;33m(\u001b[0m\u001b[1;33m)\u001b[0m\u001b[1;33m\u001b[0m\u001b[1;33m\u001b[0m\u001b[0m\n\u001b[0;32m     29\u001b[0m             \u001b[0mcurrentHash\u001b[0m \u001b[1;33m=\u001b[0m \u001b[0mhashlib\u001b[0m\u001b[1;33m.\u001b[0m\u001b[0msha224\u001b[0m\u001b[1;33m(\u001b[0m\u001b[0mresponse\u001b[0m\u001b[1;33m)\u001b[0m\u001b[1;33m.\u001b[0m\u001b[0mhexdigest\u001b[0m\u001b[1;33m(\u001b[0m\u001b[1;33m)\u001b[0m\u001b[1;33m\u001b[0m\u001b[1;33m\u001b[0m\u001b[0m\n\u001b[1;32m---> 30\u001b[1;33m             \u001b[0mtime\u001b[0m\u001b[1;33m.\u001b[0m\u001b[0msleep\u001b[0m\u001b[1;33m(\u001b[0m\u001b[1;36m30\u001b[0m\u001b[1;33m)\u001b[0m\u001b[1;33m\u001b[0m\u001b[1;33m\u001b[0m\u001b[0m\n\u001b[0m\u001b[0;32m     31\u001b[0m             \u001b[1;32mcontinue\u001b[0m\u001b[1;33m\u001b[0m\u001b[1;33m\u001b[0m\u001b[0m\n\u001b[0;32m     32\u001b[0m     \u001b[1;32mexcept\u001b[0m \u001b[0mException\u001b[0m \u001b[1;32mas\u001b[0m \u001b[0me\u001b[0m\u001b[1;33m:\u001b[0m\u001b[1;33m\u001b[0m\u001b[1;33m\u001b[0m\u001b[0m\n",
      "\u001b[1;31mKeyboardInterrupt\u001b[0m: "
     ]
    }
   ],
   "source": [
    "#Importamos librerias\n",
    "import time \n",
    "import hashlib \n",
    "from urllib.request import urlopen, Request \n",
    "from datetime import datetime\n",
    "\n",
    "\n",
    "now = datetime.now()\n",
    "url = Request('https://www.marca.com/',  #<----INTRODUCE AQUI LA URL\n",
    "              headers={'User-Agent': 'Mozilla/5.0'}) \n",
    "  \n",
    "response = urlopen(url).read() \n",
    "  \n",
    "currentHash = hashlib.sha224(response).hexdigest() \n",
    "print(\"Analizando...\") \n",
    "time.sleep(10) \n",
    "while True: \n",
    "    try: \n",
    "        response = urlopen(url).read() \n",
    "        currentHash = hashlib.sha224(response).hexdigest() \n",
    "        time.sleep(30) \n",
    "        response = urlopen(url).read() \n",
    "        newHash = hashlib.sha224(response).hexdigest() \n",
    "        if newHash == currentHash: \n",
    "            continue\n",
    "  \n",
    "        else: \n",
    "            \n",
    "            print(\"Algo ha cambiado en la web \")\n",
    "            print(now)\n",
    "            response = urlopen(url).read() \n",
    "            currentHash = hashlib.sha224(response).hexdigest() \n",
    "            time.sleep(30) \n",
    "            continue\n",
    "    except Exception as e: \n",
    "        print(\"error\") "
   ]
  },
  {
   "cell_type": "code",
   "execution_count": null,
   "id": "42d48fcf",
   "metadata": {},
   "outputs": [],
   "source": []
  }
 ],
 "metadata": {
  "kernelspec": {
   "display_name": "Python 3 (ipykernel)",
   "language": "python",
   "name": "python3"
  },
  "language_info": {
   "codemirror_mode": {
    "name": "ipython",
    "version": 3
   },
   "file_extension": ".py",
   "mimetype": "text/x-python",
   "name": "python",
   "nbconvert_exporter": "python",
   "pygments_lexer": "ipython3",
   "version": "3.8.8"
  }
 },
 "nbformat": 4,
 "nbformat_minor": 5
}
